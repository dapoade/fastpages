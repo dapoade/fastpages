{
 "cells": [
  {
   "cell_type": "markdown",
   "metadata": {},
   "source": [
    "# NUMBER THEORY"
   ]
  },
  {
   "cell_type": "markdown",
   "metadata": {},
   "source": [
    "## Find the first 10-digit prime in the decimal expansion of 17π."
   ]
  },
  {
   "cell_type": "code",
   "execution_count": 1,
   "metadata": {},
   "outputs": [],
   "source": [
    "import math\n",
    "from mpmath import mp\n"
   ]
  },
  {
   "cell_type": "markdown",
   "metadata": {},
   "source": [
    "### My approach to this problem can be broken down into three parts (or helper functions): \n",
    "\n",
    "#### 1. Create a function that expands the decimals of 17pi to a given precision.\n",
    "#### 2. Write a function that checks if a specified value is prime.\n",
    "#### 3. Write a function that creates a 10 digit sliding window and checks if each window is contains a prime number."
   ]
  },
  {
   "cell_type": "markdown",
   "metadata": {},
   "source": [
    "The function below returns 17pi to the specified precision. To generate a large decimal expansion of a number, I decided to use the 'mpmath' library. \n",
    "\n",
    "https://mpmath.org/doc/current/basics.html\n",
    "\n",
    "The input for the function are the number of digits (`num_digits`) we want to expand the number to (after the decimal) and the relevant multiplier for this problem. "
   ]
  },
  {
   "cell_type": "code",
   "execution_count": 10,
   "metadata": {},
   "outputs": [],
   "source": [
    "#collapse_output\n",
    "\n",
    "def digits_after_decimal(num_digits, number, multiplier):\n",
    "    \"\"\" Function to generate a specific amount of numbers after\n",
    "    the decimal of a multiplier (17) * pi \"\"\"\n",
    "    mp.dps = num_digits\n",
    "    a = (number * multiplier)\n",
    "    \n",
    "    \n",
    "    expanded = mp.nstr(a, num_digits)\n",
    "    expanded = expanded[2:].replace('.', '')\n",
    "    \n",
    "    return expanded \n",
    "\n"
   ]
  },
  {
   "cell_type": "code",
   "execution_count": 11,
   "metadata": {},
   "outputs": [
    {
     "data": {
      "text/plain": [
       "'407075111026485053864937515751549031351879789376798956574058069232878906865552976676592030815990155696517470725799213000595358362359897939331109938184178996654829745932954858794513958590132233816493395289786586320868584184086019974375313809610432455476025637698825926377723553019627691323424235401653317979112307364998972985855656368097319559161194254174036120192619019329947930863530498183005697360361973596217913063202567163995492854400482787015317265860459366742644982057796323150874949111203135'"
      ]
     },
     "execution_count": 11,
     "metadata": {},
     "output_type": "execute_result"
    }
   ],
   "source": [
    "#collapse_output\n",
    "digits_after_decimal(500, mp.pi, 17)"
   ]
  },
  {
   "cell_type": "markdown",
   "metadata": {},
   "source": [
    "### Unit Test "
   ]
  },
  {
   "cell_type": "code",
   "execution_count": 12,
   "metadata": {},
   "outputs": [
    {
     "name": "stdout",
     "output_type": "stream",
     "text": [
      "The 6 digit expansion of numbers after the decimal of pi are '14159265'\n",
      "My function generated 6 digit expansion pi is 14159265\n"
     ]
    }
   ],
   "source": [
    "print('The 6 digit expansion of numbers after the decimal of pi are \\'14159265\\'')\n",
    "print('My function generated 6 digit expansion pi is ' +  str(digits_after_decimal(9, mp.pi, 1)))\n"
   ]
  },
  {
   "cell_type": "markdown",
   "metadata": {},
   "source": [
    "The next helper function I needed was to check whether or not a number is prime. To do this, checked to see if there are any factors between 2 and the square root of the number of interest. I looped from 2 to the square root of the number because if a number n is not a prime, it can be factored into two factors a and b:\n",
    "\n",
    "- ####  n = a * b\n",
    "\n",
    "\n",
    "\n",
    "Because a and b can't both be greater than the square root of n, since then the product **a * b** would be greater than **sqrt(n) * sqrt(n) = n**. So in any factorization of n, at least one of the factors must be smaller than the square root of n, and if we can't find any factors less than or equal to the square root, n must be a prime.\n",
    "\n",
    "\n",
    "\n",
    "If the number is divisible by the factor, then I returned False. If the number isn't divisible by the factor, then I increased the factor by 1 and the loop continues until a either a factor is found or once the factors we are testing become greater than or equal to the square root of our number of interest."
   ]
  },
  {
   "cell_type": "code",
   "execution_count": 13,
   "metadata": {},
   "outputs": [],
   "source": [
    "def is_prime(n):\n",
    "    if n <= 1:\n",
    "        return False\n",
    " \n",
    "    max_div = math.floor(math.sqrt(n))\n",
    "    for i in range(2, 1 + max_div):\n",
    "        if n % i == 0:\n",
    "            return False\n",
    "    return True"
   ]
  },
  {
   "cell_type": "markdown",
   "metadata": {},
   "source": [
    "### Unit Test"
   ]
  },
  {
   "cell_type": "code",
   "execution_count": 14,
   "metadata": {},
   "outputs": [
    {
     "name": "stdout",
     "output_type": "stream",
     "text": [
      "Passed!\n"
     ]
    }
   ],
   "source": [
    "def test_is_prime():\n",
    "    \n",
    "    assert is_prime(131) == True\n",
    "    assert is_prime(7) == True\n",
    "    assert is_prime(16) == False\n",
    "    assert is_prime(169) == False\n",
    "    print(\"Passed!\")\n",
    "\n",
    "test_is_prime()\n"
   ]
  },
  {
   "cell_type": "markdown",
   "metadata": {},
   "source": [
    "The last helper function creates a sliding window of 10 digits to traverse the string and determine if the 10 digit sequence/number is prime. \n"
   ]
  },
  {
   "cell_type": "code",
   "execution_count": 19,
   "metadata": {},
   "outputs": [],
   "source": [
    "\n",
    "def prime_digits(num_after_dec):\n",
    "    \"\"\"A function to find the first 10 digit sequence that\"\"\"\n",
    "    for i in range(len(num_after_dec) - 10):\n",
    "        \n",
    "        digits = num_after_dec[i:i+10]\n",
    "    \n",
    "        if is_prime(int(digits)):\n",
    "            print(f\"{digits} is the first 10 digit prime in the decimal expansion\")\n",
    "            return digits\n",
    "        \n",
    "        \n",
    "        "
   ]
  },
  {
   "cell_type": "markdown",
   "metadata": {},
   "source": [
    "# Final Solution"
   ]
  },
  {
   "cell_type": "markdown",
   "metadata": {},
   "source": [
    "### Unit Test for e"
   ]
  },
  {
   "cell_type": "code",
   "execution_count": 24,
   "metadata": {},
   "outputs": [
    {
     "name": "stdout",
     "output_type": "stream",
     "text": [
      "7427466391 is the first 10 digit prime in the decimal expansion\n"
     ]
    },
    {
     "data": {
      "text/plain": [
       "'7427466391'"
      ]
     },
     "execution_count": 24,
     "metadata": {},
     "output_type": "execute_result"
    }
   ],
   "source": [
    "e_digits = digits_after_decimal(500, mp.e, 1)\n",
    "prime_digits(e_digits)\n"
   ]
  },
  {
   "cell_type": "markdown",
   "metadata": {},
   "source": [
    "## Final solution for 17 Pi"
   ]
  },
  {
   "cell_type": "code",
   "execution_count": 23,
   "metadata": {},
   "outputs": [
    {
     "name": "stdout",
     "output_type": "stream",
     "text": [
      "8649375157 is the first 10 digit prime in the decimal expansion\n"
     ]
    },
    {
     "data": {
      "text/plain": [
       "'8649375157'"
      ]
     },
     "execution_count": 23,
     "metadata": {},
     "output_type": "execute_result"
    }
   ],
   "source": [
    "pi_digits = digits_after_decimal(500, mp.pi, 17)\n",
    "prime_digits(pi_digits)\n",
    "\n"
   ]
  },
  {
   "cell_type": "code",
   "execution_count": null,
   "metadata": {},
   "outputs": [],
   "source": []
  }
 ],
 "metadata": {
  "kernelspec": {
   "display_name": "Python 3",
   "language": "python",
   "name": "python3"
  },
  "language_info": {
   "codemirror_mode": {
    "name": "ipython",
    "version": 3
   },
   "file_extension": ".py",
   "mimetype": "text/x-python",
   "name": "python",
   "nbconvert_exporter": "python",
   "pygments_lexer": "ipython3",
   "version": "3.8.3"
  }
 },
 "nbformat": 4,
 "nbformat_minor": 4
}
