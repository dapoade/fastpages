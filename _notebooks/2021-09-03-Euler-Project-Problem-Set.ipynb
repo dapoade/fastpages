{
 "cells": [
  {
   "cell_type": "markdown",
   "metadata": {},
   "source": [
    "# Euler Project Problem Set"
   ]
  },
  {
   "cell_type": "markdown",
   "metadata": {},
   "source": [
    "## By: Dapo Adegbile"
   ]
  },
  {
   "cell_type": "markdown",
   "metadata": {},
   "source": [
    "### Problem 6: Sum square difference: Solved By -  496334\n",
    "\n",
    "https://projecteuler.net/problem=6"
   ]
  },
  {
   "cell_type": "markdown",
   "metadata": {},
   "source": [
    "#### Find the difference between the sum of the squares of the first one hundred natural numbers and the square of the sum.\n",
    "\n"
   ]
  },
  {
   "cell_type": "code",
   "execution_count": 1,
   "metadata": {},
   "outputs": [],
   "source": [
    "#collapse_show\n",
    "\n",
    "def sum_square_diff(num):\n",
    "    \"\"\" Returns the difference between the sum of the squares and the square of the sum \n",
    "    for the first hundred natural numbers \"\"\"\n",
    "    \n",
    "    numbers = list(range(1,num+1))\n",
    "    squared_numbers = [number ** 2 for number in numbers]\n",
    "\n",
    "    sum_sq1 = sum(squared_numbers)\n",
    "\n",
    "    sum_sq2 = (sum(numbers))**2\n",
    "\n",
    "    diff = abs(sum_sq1 - sum_sq2)\n",
    "    \n",
    "    return diff\n",
    "    \n"
   ]
  },
  {
   "cell_type": "code",
   "execution_count": 2,
   "metadata": {},
   "outputs": [
    {
     "data": {
      "text/plain": [
       "25164150"
      ]
     },
     "execution_count": 2,
     "metadata": {},
     "output_type": "execute_result"
    }
   ],
   "source": [
    "sum_square_diff(100)"
   ]
  },
  {
   "cell_type": "markdown",
   "metadata": {},
   "source": [
    "My approach for this problem was to generate a list of the first hundred natural numbers "
   ]
  },
  {
   "cell_type": "markdown",
   "metadata": {},
   "source": [
    "### Problem 36: Double-base Palindromes: Solved By - 89573\n",
    "\n",
    "https://projecteuler.net/problem=36"
   ]
  },
  {
   "cell_type": "markdown",
   "metadata": {},
   "source": [
    "#### Find the sum of all numbers, less than one million, which are palindromic in base 10 and base 2."
   ]
  },
  {
   "cell_type": "code",
   "execution_count": 3,
   "metadata": {},
   "outputs": [],
   "source": [
    "#collapse_show\n",
    "\n",
    "def palindrome_sum(num):\n",
    "    \n",
    "    palindrome_list = []\n",
    "    \n",
    "    \n",
    "    # create a list natural numbers in base 10 that are palindrome\n",
    "    for i in range(1,num + 1):\n",
    "        \n",
    "        i = str(i)\n",
    "        rev = i[::-1] # reverse the number \n",
    "        if i == rev:  # if the number is a palindrome, append it to the list\n",
    "            palindrome_list.append(i)\n",
    "            \n",
    "        # convert strings in list to integers \n",
    "        palindrome_list = list(map(int, palindrome_list))\n",
    "            \n",
    "    \n",
    "    match = dict()\n",
    "    \n",
    "    # loop over palindromic natural numbers to see if binary value is palindromic\n",
    "    for a in palindrome_list:\n",
    "        \n",
    "        binary = bin(a)[2:] # removed the '0b' at the beginning of binary string\n",
    "        rev_bin = binary[::-1]\n",
    "\n",
    "        if binary == rev_bin:\n",
    "            match[binary] = a\n",
    "            \n",
    "    match   \n",
    "            \n",
    "        \n",
    "        \n",
    "    return sum(match.values())\n",
    "            \n",
    "            "
   ]
  },
  {
   "cell_type": "code",
   "execution_count": 4,
   "metadata": {},
   "outputs": [
    {
     "data": {
      "text/plain": [
       "872187"
      ]
     },
     "execution_count": 4,
     "metadata": {},
     "output_type": "execute_result"
    }
   ],
   "source": [
    "#collapse_output\n",
    "palindrome_sum(1_000_000)"
   ]
  },
  {
   "cell_type": "markdown",
   "metadata": {},
   "source": [
    "### Problem 112: Bouncy Numbers: Solved By - 24437\n",
    "https://projecteuler.net/problem=112"
   ]
  },
  {
   "cell_type": "markdown",
   "metadata": {},
   "source": [
    "#### Find the least number for which the proportion of bouncy numbers is exactly 99%.\n"
   ]
  },
  {
   "cell_type": "code",
   "execution_count": 5,
   "metadata": {},
   "outputs": [],
   "source": [
    "#collapse_show\n",
    "\n",
    "def is_bouncy(n):\n",
    "    return sorted(str(n)) != list(str(n)) and sorted(str(n)) != list(str(n))[::-1]\n",
    "\n",
    "\n",
    "def bouncy_99():\n",
    "    percent = 0 \n",
    "    i = 0\n",
    "    bouncy_list = [] \n",
    "\n",
    "    while percent < .99 :\n",
    "        i += 1\n",
    "        if is_bouncy(i):\n",
    "            bouncy_list.append(i)\n",
    "\n",
    "        percent = len(bouncy_list) / i\n",
    "        \n",
    "         \n",
    "\n",
    "    return i, percent \n",
    "    \n",
    "    \n",
    "    \n",
    "    \n",
    "    \n",
    "     \n",
    "    \n",
    "    \n",
    "    \n",
    "    "
   ]
  },
  {
   "cell_type": "code",
   "execution_count": 7,
   "metadata": {},
   "outputs": [
    {
     "data": {
      "text/plain": [
       "(1587000, 0.99)"
      ]
     },
     "execution_count": 7,
     "metadata": {},
     "output_type": "execute_result"
    }
   ],
   "source": [
    "#collapse_output\n",
    "\n",
    "bouncy_99()\n"
   ]
  }
 ],
 "metadata": {
  "kernelspec": {
   "display_name": "Python 3",
   "language": "python",
   "name": "python3"
  },
  "language_info": {
   "codemirror_mode": {
    "name": "ipython",
    "version": 3
   },
   "file_extension": ".py",
   "mimetype": "text/x-python",
   "name": "python",
   "nbconvert_exporter": "python",
   "pygments_lexer": "ipython3",
   "version": "3.8.3"
  }
 },
 "nbformat": 4,
 "nbformat_minor": 4
}
