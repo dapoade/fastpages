{
 "cells": [
  {
   "cell_type": "markdown",
   "metadata": {},
   "source": [
    "# Euler Project Problem Set"
   ]
  },
  {
   "cell_type": "markdown",
   "metadata": {},
   "source": [
    " **By: Dapo Adegbile**"
   ]
  },
  {
   "cell_type": "markdown",
   "metadata": {},
   "source": [
    "## Problem 6: Sum square difference: Solved By -  496334\n",
    "\n",
    "https://projecteuler.net/problem=6"
   ]
  },
  {
   "cell_type": "markdown",
   "metadata": {},
   "source": [
    "The sum of the squares of the first ten natural numbers is,\n",
    "$$\n",
    "1^{2}+2^{2}+\\ldots+10^{2}=385\n",
    "$$\n",
    "\n",
    "The square of the sum of the first ten natural numbers is,\n",
    "$$\n",
    "(1+2+\\ldots+10)^{2}=55^{2}=3025\n",
    "$$\n",
    "\n",
    "Hence the difference between the sum of the squares of the first ten natural numbers and the square of the sum is $3025-385=2640$\n",
    "\n",
    "**Find the difference between the sum of the squares of the first one hundred natural numbers and the square of the sum.**"
   ]
  },
  {
   "cell_type": "markdown",
   "metadata": {},
   "source": [
    "    My approach for this problem was to first generate a list of numbers from 1-100 so I can perform the necessary calculation on each number in the list. Once generated, to find the sum of the squares, I squared each number in the list and then added them together. Next, to get the square of the sum, I added all of the numbers in the original list, and then squared the sum. Lastly I took the difference between the sum of the squares and the square of the sum and arrived at 25164150 for my solution.\n",
    "\n",
    "\n",
    "\n",
    "\n",
    "\n",
    "\n"
   ]
  },
  {
   "cell_type": "code",
   "execution_count": 1,
   "metadata": {},
   "outputs": [],
   "source": [
    "#collapse_show\n",
    "\n",
    "def sum_square_diff(num):\n",
    "    \"\"\" Returns the difference between the sum of the squares and the square of the sum \n",
    "    for the first hundred natural numbers \"\"\"\n",
    "    \n",
    "    numbers = list(range(1,num+1))\n",
    "    squared_numbers = [number ** 2 for number in numbers]\n",
    "\n",
    "    sum_sq1 = sum(squared_numbers)\n",
    "\n",
    "    sum_sq2 = (sum(numbers))**2\n",
    "\n",
    "    diff = abs(sum_sq1 - sum_sq2)\n",
    "    \n",
    "    return diff\n",
    "    \n"
   ]
  },
  {
   "cell_type": "code",
   "execution_count": 9,
   "metadata": {},
   "outputs": [
    {
     "data": {
      "text/plain": [
       "25164150"
      ]
     },
     "execution_count": 9,
     "metadata": {},
     "output_type": "execute_result"
    }
   ],
   "source": [
    "#collapse_output\n",
    "\n",
    "sum_square_diff(100)"
   ]
  },
  {
   "cell_type": "markdown",
   "metadata": {},
   "source": [
    "## Problem 36: Double-base Palindromes: Solved By - 89573\n",
    "\n",
    "https://projecteuler.net/problem=36"
   ]
  },
  {
   "cell_type": "markdown",
   "metadata": {},
   "source": [
    "The decimal number, $585=1001001001_{2}$ (binary), is palindromic in both bases.\n",
    "Find the sum of all numbers, less than one million, which are palindromic in base 10 and base $2 .$\n",
    "(Please note that the palindromic number, in either base, may not include leading zeros.)"
   ]
  },
  {
   "cell_type": "markdown",
   "metadata": {},
   "source": [
    "    For this problem my first instict was to create a list of of all the natural numbers that are palindromic in base 10.  Once created, I looped through said list to check if they are palindromic in base 2. If the number is palindromic in base 2, I added it to a dictionary with the key being the base 2 number, and the value being the base 10 number. Once the dictionary is completed I added all of the values (base 10 numbers) and got the sum of the numbers that are palindromic in base 10 and base 2. \n",
    "\n",
    "\n",
    "\n"
   ]
  },
  {
   "cell_type": "code",
   "execution_count": 3,
   "metadata": {},
   "outputs": [],
   "source": [
    "#collapse_show\n",
    "\n",
    "def palindrome_sum(num):\n",
    "    \"\"\" Returns a sum of all the natural numbers less than one million that are palindromic \n",
    "    in base 10 and base 2\"\"\"\n",
    "    palindrome_list = []\n",
    "    \n",
    "    \n",
    "    # create a list natural numbers in base 10 that are palindrome\n",
    "    for i in range(1,num + 1):\n",
    "        \n",
    "        i = str(i)\n",
    "        rev = i[::-1] # reverse the number \n",
    "        if i == rev:  # if the number is a palindrome, append it to the list\n",
    "            palindrome_list.append(i)\n",
    "            \n",
    "        # convert strings in list to integers \n",
    "        palindrome_list = list(map(int, palindrome_list))\n",
    "            \n",
    "    \n",
    "    match = dict()\n",
    "    \n",
    "    # loop over palindromic natural numbers to see if binary value is palindromic\n",
    "    for a in palindrome_list:\n",
    "        \n",
    "        binary = bin(a)[2:] # removed the '0b' at the beginning of binary string\n",
    "        rev_bin = binary[::-1]\n",
    "\n",
    "        if binary == rev_bin:\n",
    "            match[binary] = a\n",
    "            \n",
    "    match   \n",
    "            \n",
    "        \n",
    "        \n",
    "    return sum(match.values())\n",
    "            \n",
    "            "
   ]
  },
  {
   "cell_type": "code",
   "execution_count": 10,
   "metadata": {},
   "outputs": [
    {
     "data": {
      "text/plain": [
       "872187"
      ]
     },
     "execution_count": 10,
     "metadata": {},
     "output_type": "execute_result"
    }
   ],
   "source": [
    "#collapse_output\n",
    "\n",
    "palindrome_sum(1_000_000)"
   ]
  },
  {
   "cell_type": "markdown",
   "metadata": {},
   "source": [
    "## Problem 112: Bouncy Numbers: Solved By - 24437\n",
    "https://projecteuler.net/problem=112"
   ]
  },
  {
   "cell_type": "markdown",
   "metadata": {},
   "source": [
    "Working from left-to-right if no digit is exceeded by the digit to its left it is called an increasing number; for example, $134468 .$\n",
    "\n",
    "Similarly if no digit is exceeded by the digit to its right it is called a decreasing number; for example, $66420 .$\n",
    "We shall call a positive integer that is neither increasing nor decreasing a \"bouncy\" number; for example, $155349 .$\n",
    "Clearly there cannot be any bouncy numbers below one-hundred, but just over half of the numbers below one-thousand (525) are bouncy. In fact, the least number for which the proportion of bouncy numbers first reaches $50 \\%$ is 538 .\n",
    "Surprisingly, bouncy numbers become more and more common and by the time we reach 21780 the proportion of bouncy numbers is equal to $90 \\%$.\n",
    "Find the least number for which the proportion of bouncy numbers is exactly $99 \\%$."
   ]
  },
  {
   "cell_type": "markdown",
   "metadata": {},
   "source": [
    "    To start this problem I determined that I needed a function to determine whether or not a number is bouncy. To check if a number is bouncy I had to make sure that the number was neither increasing nor decreasing. \n",
    "\n",
    "    After creating this function, I'd loop through numbers and if a number was bouncy, I'd add it to a list. To calculate the proportion of bouncy numbers, I'd divide the length of the current list by current number being evaluated. The loop ends when the percent becomes 99%. "
   ]
  },
  {
   "cell_type": "code",
   "execution_count": 5,
   "metadata": {},
   "outputs": [],
   "source": [
    "#collapse_show\n",
    "\n",
    "def is_bouncy(n):\n",
    "    \"\"\" returns whether or not a number is 'bouncy' \"\"\"\n",
    "    \n",
    "    return sorted(str(n)) != list(str(n)) and sorted(str(n)) != list(str(n))[::-1]\n",
    "\n",
    "\n",
    "def bouncy_99():\n",
    "    \"\"\" Finds the least number for which the proportion of bouncy numbers is exactly 99%.\"\"\"\n",
    "    percent = 0 \n",
    "    i = 0\n",
    "    bouncy_list = [] \n",
    "\n",
    "    while percent < .99 :\n",
    "        i += 1\n",
    "        if is_bouncy(i):\n",
    "            bouncy_list.append(i)\n",
    "\n",
    "        percent = len(bouncy_list) / i\n",
    "        \n",
    "         \n",
    "\n",
    "    return i, percent \n",
    " "
   ]
  },
  {
   "cell_type": "code",
   "execution_count": 7,
   "metadata": {},
   "outputs": [
    {
     "data": {
      "text/plain": [
       "(1587000, 0.99)"
      ]
     },
     "execution_count": 7,
     "metadata": {},
     "output_type": "execute_result"
    }
   ],
   "source": [
    "#collapse\n",
    "\n",
    "bouncy_99()\n"
   ]
  }
 ],
 "metadata": {
  "kernelspec": {
   "display_name": "Python 3",
   "language": "python",
   "name": "python3"
  },
  "language_info": {
   "codemirror_mode": {
    "name": "ipython",
    "version": 3
   },
   "file_extension": ".py",
   "mimetype": "text/x-python",
   "name": "python",
   "nbconvert_exporter": "python",
   "pygments_lexer": "ipython3",
   "version": "3.8.3"
  }
 },
 "nbformat": 4,
 "nbformat_minor": 4
}
